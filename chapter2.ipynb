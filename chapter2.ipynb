{
 "cells": [
  {
   "cell_type": "markdown",
   "id": "d3f3ece2",
   "metadata": {
    "vscode": {
     "languageId": "plaintext"
    }
   },
   "source": [
    "# Chapter 2: create a fancy UI"
   ]
  },
  {
   "cell_type": "markdown",
   "id": "50963917",
   "metadata": {},
   "source": [
    "In this chapter you are going to extend the program from the previous chapter, to include a User Interface similar to the one from ChatGPT. Chatting from the terminal is cool, but we can do better!"
   ]
  },
  {
   "cell_type": "markdown",
   "id": "e906eaac",
   "metadata": {},
   "source": [
    "## Streamlit"
   ]
  },
  {
   "cell_type": "markdown",
   "id": "729fddc0",
   "metadata": {
    "vscode": {
     "languageId": "plaintext"
    }
   },
   "source": [
    "To create the UI, we are going to use Streamlit. They already have a cool guide on how to create a chat UI.\n",
    "\n",
    "https://docs.streamlit.io/develop/tutorials/chat-and-llm-apps/build-conversational-apps"
   ]
  },
  {
   "cell_type": "code",
   "execution_count": null,
   "id": "9587062e",
   "metadata": {},
   "outputs": [],
   "source": [
    "# pip install streamlit"
   ]
  },
  {
   "cell_type": "code",
   "execution_count": null,
   "id": "83a2d5c8",
   "metadata": {},
   "outputs": [],
   "source": [
    "import streamlit as st\n",
    "\n",
    "# Follow the guide in the link to create a UI that you like\n",
    "..."
   ]
  },
  {
   "cell_type": "code",
   "execution_count": null,
   "id": "d64c180a",
   "metadata": {},
   "outputs": [],
   "source": [
    "# Modify the main function to include the streamlit app, \n",
    "# and connect it to the OpenAI API.\n",
    "def main()->None:\n",
    "    ..."
   ]
  }
 ],
 "metadata": {
  "language_info": {
   "name": "python"
  }
 },
 "nbformat": 4,
 "nbformat_minor": 5
}
