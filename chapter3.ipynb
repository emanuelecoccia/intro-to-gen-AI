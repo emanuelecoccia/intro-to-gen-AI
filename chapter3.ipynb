{
 "cells": [
  {
   "cell_type": "markdown",
   "id": "539b845d",
   "metadata": {},
   "source": [
    "# Chapter 3: vectorize contextual information"
   ]
  },
  {
   "cell_type": "markdown",
   "id": "3d6d0a78",
   "metadata": {},
   "source": [
    "In this chapter you will take a document, split it into chunks and embed the chunks (transform their meaning into vectors). You will then save the vectorized chunks into a file."
   ]
  },
  {
   "cell_type": "markdown",
   "id": "8f88185a",
   "metadata": {
    "vscode": {
     "languageId": "plaintext"
    }
   },
   "source": [
    "## Download the \"context\" document"
   ]
  },
  {
   "cell_type": "markdown",
   "id": "a0d76f72",
   "metadata": {},
   "source": [
    "When we talk to our LLM, we want to make sure it is informed about some external facts that might be too specialized for it to know. For example, some internal company document, some piece of news, or some specialized piece of knowledge that cannot be found on the internet. In our example, we want to have as a context the Dutch National Climate Agreement of 2020."
   ]
  },
  {
   "cell_type": "code",
   "execution_count": null,
   "id": "d8f0ff63",
   "metadata": {},
   "outputs": [],
   "source": [
    "# pip install requests"
   ]
  },
  {
   "cell_type": "code",
   "execution_count": 4,
   "id": "09af07a0",
   "metadata": {},
   "outputs": [
    {
     "name": "stdout",
     "output_type": "stream",
     "text": [
      "%PDF-1.7\n",
      "\n",
      "4 0 obj\n",
      "(Identity)\n",
      "endobj\n",
      "5 0 obj\n",
      "(Adobe)\n",
      "endobj\n",
      "8 0 obj\n",
      "<<\n",
      "/Filter /FlateDecode\n",
      "/Length 53296\n",
      "/Type /Stream\n",
      ">>\n",
      "stream\n",
      "d\u0014�\u0001���977���w����~��y���s�s��y�s�0B�\u000e�Gr݄����\u0017�BxN7B��7�ՏDy�j�>�\n",
      "We5�m�pz�M\u0004��\"���a¤�kߩ\t!<~/<���\t��%\u0013W�\"����]�ucږ�c�B�R�\u0011\u0012\u000e�\\8���u�mG���\\���>�\u0013�\u0005\u0016ؿkvϜ�nÊ\"�i�\u000e�m���=�\u0000��G���s\u0016��}����#\u0014�-B�Y�Κ�}�a�\u0016�7\u001a�W΅\u0003����+a?g��e+oɜ�\u001d<;\u001f!��YK.\u000ei�߉�+�FH�\u0017,�9��\u0019�7\u0011z�\u000f!�W\u000b���Ѯ\u0013���<�^<}���g�]o}��vXϢ��b-h%�'���Y\n"
     ]
    }
   ],
   "source": [
    "import requests\n",
    "\n",
    "document_link = \"https://english.rvo.nl/sites/default/files/2020/07/National%20Climate%20Agreement%20The%20Netherlands%20-%20English.pdf\"\n",
    "\n",
    "document = requests.get(document_link)\n",
    "print(document.text[:500])"
   ]
  },
  {
   "cell_type": "markdown",
   "id": "2618756b",
   "metadata": {},
   "source": [
    "The document is a pdf, but we need to extract the text from it. First we save the pdf file, then we manage it with a pdf package."
   ]
  },
  {
   "cell_type": "code",
   "execution_count": 5,
   "id": "c24558ca",
   "metadata": {},
   "outputs": [
    {
     "name": "stdout",
     "output_type": "stream",
     "text": [
      "PDF saved successfully. You should see it saved in the working folder.\n"
     ]
    }
   ],
   "source": [
    "with open(\"National_Climate_Agreement_Netherlands.pdf\", \"wb\") as f:\n",
    "    f.write(document.content)\n",
    "\n",
    "print(\"PDF saved successfully. You should see it saved in the working folder.\")"
   ]
  },
  {
   "cell_type": "code",
   "execution_count": null,
   "id": "886f2af9",
   "metadata": {},
   "outputs": [],
   "source": [
    "# pip install PyPDF2"
   ]
  },
  {
   "cell_type": "code",
   "execution_count": 7,
   "id": "068b84c0",
   "metadata": {},
   "outputs": [
    {
     "name": "stdout",
     "output_type": "stream",
     "text": [
      "Number of pages: 247\n",
      "First page text:\n",
      "1 \n",
      " \n",
      " \n",
      " \n",
      " \n",
      " \n",
      " \n",
      " \n",
      "Climate Agreement \n",
      " \n",
      " \n",
      " \n",
      " \n",
      " \n",
      " \n",
      "The Hague \n",
      "28 June 2019 \n"
     ]
    }
   ],
   "source": [
    "import PyPDF2\n",
    "\n",
    "with open(\"National_Climate_Agreement_Netherlands.pdf\", \"rb\") as f:\n",
    "    reader = PyPDF2.PdfReader(f)\n",
    "    print(\"Number of pages:\", len(reader.pages))\n",
    "    print(\"First page text:\")\n",
    "    print(reader.pages[0].extract_text())"
   ]
  },
  {
   "cell_type": "markdown",
   "id": "b97a5360",
   "metadata": {},
   "source": [
    "## Parse it into chunks"
   ]
  },
  {
   "cell_type": "markdown",
   "id": "1b2c9f11",
   "metadata": {},
   "source": [
    "Now we split the document into chunks and store them in a list. We choose the chunk size to be equal to a page."
   ]
  },
  {
   "cell_type": "code",
   "execution_count": 8,
   "id": "60fb22eb",
   "metadata": {},
   "outputs": [],
   "source": [
    "with open(\"National_Climate_Agreement_Netherlands.pdf\", \"rb\") as f:\n",
    "    reader = PyPDF2.PdfReader(f)\n",
    "    num_pages = len(reader.pages)\n",
    "    # Starting from page 4, after the index\n",
    "    chunks = [reader.pages[i].extract_text() for i in range(4, num_pages)]"
   ]
  },
  {
   "cell_type": "code",
   "execution_count": 9,
   "id": "81926e49",
   "metadata": {},
   "outputs": [
    {
     "name": "stdout",
     "output_type": "stream",
     "text": [
      "Number of chunks:  243\n",
      "Number of letters in the first chunk: 3227\n"
     ]
    }
   ],
   "source": [
    "print(\"Number of chunks: \", len(chunks))\n",
    "print(\"Number of letters in the first chunk:\", len(chunks[0]))"
   ]
  },
  {
   "cell_type": "code",
   "execution_count": null,
   "id": "27f5d6c8",
   "metadata": {},
   "outputs": [],
   "source": [
    "# pip install matplotlib"
   ]
  },
  {
   "cell_type": "code",
   "execution_count": 10,
   "id": "a12e4fdc",
   "metadata": {},
   "outputs": [
    {
     "data": {
      "image/png": "[encoded data removed]",
      "text/plain": [
       "<Figure size 640x480 with 1 Axes>"
      ]
     },
     "metadata": {},
     "output_type": "display_data"
    }
   ],
   "source": [
    "# Plot the chunk size distribution with matplotlib\n",
    "import matplotlib.pyplot as plt\n",
    "\n",
    "plt.hist([*map(len, chunks)], bins=20)\n",
    "plt.show()"
   ]
  },
  {
   "cell_type": "code",
   "execution_count": null,
   "id": "acb79181",
   "metadata": {},
   "outputs": [],
   "source": [
    "# Delete the chunks containing less than 20 characters\n",
    "chunks = ..."
   ]
  },
  {
   "cell_type": "markdown",
   "id": "219bb7c6",
   "metadata": {},
   "source": [
    "## Vectorize the chunks"
   ]
  },
  {
   "cell_type": "markdown",
   "id": "57e55d41",
   "metadata": {},
   "source": [
    "Having the chunks of text ready, we now \"embed\" them in a vector space."
   ]
  },
  {
   "cell_type": "code",
   "execution_count": null,
   "id": "cdc23876",
   "metadata": {},
   "outputs": [],
   "source": [
    "# pip install sentence-transformers"
   ]
  },
  {
   "cell_type": "code",
   "execution_count": 13,
   "id": "efebb095",
   "metadata": {},
   "outputs": [
    {
     "name": "stdout",
     "output_type": "stream",
     "text": [
      "[-1.71638019e-02  1.14984594e-01  7.37626478e-02 -1.60305984e-02\n",
      "  7.84534067e-02 -4.36328631e-03 -4.79596741e-02  4.85519925e-03\n",
      "  2.01851670e-02  1.87497456e-02 -6.48218691e-02 -9.94562656e-02\n",
      " -6.49070963e-02  6.35451227e-02  1.98471900e-02 -2.41781678e-02\n",
      " -9.35174078e-02  4.33747331e-03 -5.47525026e-02 -9.38836113e-03\n",
      "  1.19935814e-02  1.58254113e-02  2.15838030e-02  2.94348374e-02\n",
      " -8.09530467e-02 -3.09172273e-02  1.55891851e-02 -4.44383398e-02\n",
      " -6.14061058e-02  1.17104553e-01  3.20510641e-02  1.62228402e-02\n",
      " -1.48849012e-02  6.85047312e-03 -4.59654219e-02 -3.88130657e-02\n",
      "  2.59016436e-02 -4.01644222e-02 -8.64026472e-02  4.45912890e-02\n",
      " -2.05999427e-02 -8.62277746e-02 -6.78245798e-02 -5.82792088e-02\n",
      " -2.63392646e-02  7.18733817e-02 -3.82564701e-02  2.98465532e-03\n",
      " -1.19534187e-01 -3.47017124e-02  7.18952045e-02  1.04445545e-03\n",
      " -5.46123832e-02 -6.87076673e-02 -1.35799162e-02 -9.73480754e-03\n",
      " -1.28926430e-02  4.33520339e-02  2.84047448e-03 -2.94093583e-02\n",
      "  3.78594138e-02 -7.35547766e-02 -4.42728996e-02  1.25894640e-02\n",
      "  1.17923424e-01 -1.71298627e-02  4.80870754e-02  2.33773738e-02\n",
      " -8.28688517e-02  6.12621307e-02 -3.43107656e-02 -5.81390187e-02\n",
      " -1.93413754e-03 -7.26485178e-02  2.38372199e-02 -6.01702323e-03\n",
      " -5.06021343e-02  4.93221097e-02  1.12664089e-01 -6.63994849e-02\n",
      "  9.87999663e-02  5.35531305e-02  1.97230168e-02 -9.96108055e-02\n",
      " -1.48181822e-02  1.66721661e-02  1.09105952e-01  1.13136172e-02\n",
      "  5.74613698e-02 -9.73389111e-03 -8.31076130e-02 -3.24232355e-02\n",
      "  7.35180005e-02  6.79336265e-02 -1.51880383e-02  8.53842646e-02\n",
      "  4.78109308e-02 -1.52304713e-02 -2.46002362e-03 -2.06338558e-02\n",
      "  5.86905237e-03  4.46033739e-02 -1.77705586e-02 -5.46555705e-02\n",
      " -9.36591700e-02 -7.13402079e-03  1.24510489e-02 -6.60936013e-02\n",
      "  2.95187384e-02  2.26495583e-02 -1.29701927e-01 -1.53615056e-02\n",
      "  1.92885660e-02 -9.41658616e-02  2.73116063e-02 -1.32616600e-02\n",
      "  4.62531075e-02  3.11717670e-03  1.06796898e-01 -2.63971630e-02\n",
      " -4.03352156e-02  1.31394593e-02 -2.19139587e-02  6.95233122e-02\n",
      "  6.47928193e-02  6.34179786e-02  3.18247303e-02  3.46823657e-33\n",
      " -3.83460969e-02  3.79978642e-02  4.65757325e-02  5.95152494e-04\n",
      " -9.71427187e-03  4.39985022e-02 -6.20268062e-02 -1.32084051e-02\n",
      " -3.71046439e-02  8.83748289e-03  9.81351710e-04  6.42411178e-03\n",
      "  1.95184760e-02  7.19118565e-02  5.39736189e-02 -3.16737555e-02\n",
      "  1.18217729e-02  7.72933364e-02  2.00534537e-02  5.65382801e-02\n",
      "  1.24568306e-02 -3.37098865e-03  5.62673435e-02  6.98155463e-02\n",
      "  4.37430665e-02 -1.93762910e-02  2.38555600e-03  1.24439038e-02\n",
      " -2.98478804e-03 -3.88886891e-02 -8.55020061e-03  4.40148711e-02\n",
      " -7.64067173e-02 -3.61280106e-02 -5.91973811e-02 -2.97150034e-02\n",
      " -1.67603549e-02  3.22664082e-02 -2.32164133e-02  1.43349156e-04\n",
      "  1.60928629e-02  6.81060320e-03  3.55838202e-02 -3.30715664e-02\n",
      "  7.03157336e-02 -1.02845859e-02  6.60955831e-02  1.71140544e-02\n",
      " -4.62549701e-02  1.78608671e-02 -6.38173968e-02  4.96518500e-02\n",
      " -6.03227355e-02 -4.82925586e-02  2.00452730e-02 -4.60342467e-02\n",
      " -1.00104483e-02 -5.78859225e-02 -4.33911830e-02 -1.06470332e-01\n",
      " -2.50153504e-02 -1.62260514e-02 -6.18553907e-03  7.41840014e-03\n",
      "  6.57365397e-02  6.14968203e-02 -5.62817715e-02  2.63778754e-02\n",
      " -4.70211916e-02 -7.02485815e-02  1.59184318e-02  2.17234325e-02\n",
      "  2.36642770e-02 -1.54063618e-02 -1.12742120e-02  5.67103326e-02\n",
      "  6.62459433e-02  1.26045197e-02  1.07106213e-02 -1.41802644e-02\n",
      " -8.28265920e-02 -8.89246259e-03  1.02416351e-02 -1.20009139e-01\n",
      "  2.34630909e-02 -7.96859190e-02 -7.53345108e-03  4.39275615e-02\n",
      "  9.31356698e-02  5.79074770e-02  4.37167007e-03 -8.82550105e-02\n",
      "  5.15556335e-02  1.08688369e-01 -6.88938308e-04 -4.84862951e-33\n",
      "  5.12809306e-02  2.30930280e-02 -3.58040892e-02  6.41572941e-03\n",
      "  8.87128524e-03  2.42648069e-02 -2.62539312e-02 -3.18114609e-02\n",
      "  1.13670491e-02 -2.70072352e-02  2.63539813e-02 -4.94295657e-02\n",
      "  6.99574724e-02  1.26494030e-02  4.40263015e-04 -4.66094203e-02\n",
      "  1.35445502e-02  1.49074234e-02  1.14673655e-02  1.13847395e-02\n",
      "  1.40186530e-02 -2.30064541e-02 -8.92209783e-02  1.02940045e-01\n",
      " -2.89719515e-02 -1.35869263e-02  3.40354294e-02 -4.64992449e-02\n",
      "  7.48779625e-02 -6.02123104e-02 -9.44518596e-02  4.13762853e-02\n",
      " -9.74171758e-02  4.85988371e-02  1.66778341e-02 -6.97562620e-02\n",
      "  2.21364712e-03 -1.82366017e-02  2.12904047e-02  1.77648775e-02\n",
      " -2.91109625e-02 -8.68244171e-02 -4.87487093e-02  1.63295271e-03\n",
      "  5.56304492e-03  3.49486060e-02  2.61844303e-02  2.01581437e-02\n",
      " -1.73881440e-03 -3.39026004e-02  6.53676316e-02  4.29567546e-02\n",
      " -5.03187291e-02 -2.19715503e-03  5.02801780e-03  2.45770230e-03\n",
      "  1.98498871e-02 -4.45612371e-02  5.61779253e-02  4.36064340e-02\n",
      "  2.93795783e-02  7.21200705e-02  6.29213527e-02  4.14779820e-02\n",
      "  5.87105611e-03 -4.15646285e-02 -1.43247351e-01  7.78411329e-02\n",
      "  7.63565749e-02  3.38222496e-02  3.38242836e-02 -5.38767688e-02\n",
      " -2.77699884e-02 -3.39364968e-02  3.33277136e-02 -1.26613185e-01\n",
      "  8.84080082e-02 -5.67185618e-02 -2.35154387e-02  2.24272460e-02\n",
      " -4.64932024e-02  2.41382848e-02 -4.30464884e-03 -3.83510776e-02\n",
      "  6.95555806e-02 -7.92325363e-02 -3.37775610e-02 -1.39976397e-01\n",
      "  3.11788227e-02  9.37239304e-02 -6.50864542e-02 -3.81094846e-03\n",
      " -6.36387095e-02  8.08890313e-02  2.65087690e-02 -5.14561762e-08\n",
      "  8.55124556e-03 -6.59485674e-03  1.06530301e-02 -6.71634451e-03\n",
      " -1.62660480e-02 -6.61273254e-03 -5.25306165e-03  8.79255589e-04\n",
      " -1.71638336e-02  5.08116260e-02  8.96212012e-02  8.53493586e-02\n",
      "  9.23803225e-02  3.51674482e-02  1.90975685e-02  2.36693192e-02\n",
      " -4.83779088e-02 -2.77769286e-03  4.08288613e-02  5.10072261e-02\n",
      " -1.33736040e-02 -3.55175547e-02 -1.09791026e-01 -4.27742898e-02\n",
      "  3.55137363e-02 -1.39603065e-02  7.64904991e-02  1.59246191e-01\n",
      " -3.02845668e-02 -1.43896127e-02 -4.37800065e-02 -2.32711527e-02\n",
      "  4.14397381e-02  4.05842848e-02 -1.75855700e-02 -4.12836559e-02\n",
      " -8.11878964e-03  1.33539021e-01 -7.19044171e-03 -8.39880016e-03\n",
      "  2.61328276e-02  5.72275333e-02 -5.68718277e-02  1.19939791e-02\n",
      " -5.12374900e-02 -1.24843769e-01 -2.64917184e-02  2.32931226e-02\n",
      "  3.14133125e-03  2.05643121e-02 -8.03722888e-02  5.72960125e-03\n",
      " -1.95994042e-03  4.11569290e-02  1.19751161e-02 -2.03663241e-02\n",
      " -5.62503263e-02  4.41529863e-02 -2.26745438e-02  2.89736595e-02\n",
      "  1.50795327e-02 -4.12682407e-02 -1.02321625e-01  2.62079705e-02]\n"
     ]
    }
   ],
   "source": [
    "from sentence_transformers import SentenceTransformer\n",
    "import warnings\n",
    "warnings.filterwarnings(\"ignore\")\n",
    "\n",
    "model = SentenceTransformer(\"all-MiniLM-L6-v2\") # you can also use a lighter module\n",
    " \n",
    "def embed_chunk(text:str, model:SentenceTransformer):\n",
    "    return model.encode(text)\n",
    "\n",
    "print(embed_chunk(chunks[0], model=model))"
   ]
  },
  {
   "cell_type": "markdown",
   "id": "67ed8e10",
   "metadata": {},
   "source": [
    "Now we have a way to convert a text into a vector, which can be used to represent the overall \"meaning\" of the chunk. Embeddings can be usually created with a transformer model. \n",
    "\n",
    "As an exercise, create a function that uses the OpenAI embeddings API, instead of the sentence-transformers package."
   ]
  },
  {
   "cell_type": "markdown",
   "id": "bf5ee5d9",
   "metadata": {},
   "source": [
    "## Save the vector-chunk pairs"
   ]
  },
  {
   "cell_type": "markdown",
   "id": "6e8bbca9",
   "metadata": {},
   "source": [
    "Now run the function over each chunk, and save the vector-chunk pairs into a list of tuples, that you will later pickle."
   ]
  },
  {
   "cell_type": "code",
   "execution_count": 14,
   "id": "93dfad00",
   "metadata": {},
   "outputs": [],
   "source": [
    "vector_chunk_list = []\n",
    "\n",
    "for chunk in chunks:\n",
    "    vector = embed_chunk(chunk, model)\n",
    "    vector_chunk_list.append((vector, chunk))"
   ]
  },
  {
   "cell_type": "code",
   "execution_count": 1,
   "id": "4d401412",
   "metadata": {},
   "outputs": [],
   "source": [
    "import pickle\n",
    "\n",
    "# Save the file as pickle. Why? It is just a standard way to store Python objects, albeit not the best choice.\n",
    "\n",
    "#TODO"
   ]
  }
 ],
 "metadata": {
  "kernelspec": {
   "display_name": "oco",
   "language": "python",
   "name": "python3"
  },
  "language_info": {
   "codemirror_mode": {
    "name": "ipython",
    "version": 3
   },
   "file_extension": ".py",
   "mimetype": "text/x-python",
   "name": "python",
   "nbconvert_exporter": "python",
   "pygments_lexer": "ipython3",
   "version": "3.11.10"
  }
 },
 "nbformat": 4,
 "nbformat_minor": 5
}
