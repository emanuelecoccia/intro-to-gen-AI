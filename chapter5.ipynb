{
 "cells": [
  {
   "cell_type": "markdown",
   "id": "b2a94fad",
   "metadata": {},
   "source": [
    "# Chapter 5: RAG with a proper vector database"
   ]
  },
  {
   "cell_type": "markdown",
   "id": "fa5741d5",
   "metadata": {},
   "source": [
    "In this chapter you will delve deeper into how to connect to a proper vector database, that does the retrieval for you."
   ]
  },
  {
   "cell_type": "markdown",
   "id": "3cc93d12",
   "metadata": {},
   "source": [
    "## Set up a Redis vector database"
   ]
  },
  {
   "cell_type": "markdown",
   "id": "ca69886a",
   "metadata": {},
   "source": [
    "Like in Chapter 2, Redis has a nice guide on how to build a vector database for RAG applications:\n",
    "\n",
    "https://redis.io/docs/latest/develop/get-started/vector-database/\n",
    "\n",
    "Follow it and recreate what was in Chapter 4. Experiment with the retrieval."
   ]
  },
  {
   "cell_type": "code",
   "execution_count": null,
   "id": "adf2b324",
   "metadata": {},
   "outputs": [],
   "source": [
    "# pip install redis"
   ]
  },
  {
   "cell_type": "markdown",
   "id": "b8509924",
   "metadata": {},
   "source": [
    "## Optional: upload your database on the cloud"
   ]
  },
  {
   "cell_type": "markdown",
   "id": "37ccb6b8",
   "metadata": {},
   "source": [
    "You can create a Redis Cloud account and upload your database there. For small ones it is free of charge. \n",
    "\n",
    "https://redis.io/cloud/\n",
    "\n",
    "This way you don't have to host it locally, and thus outsource computation."
   ]
  },
  {
   "cell_type": "markdown",
   "id": "4666c8bb",
   "metadata": {},
   "source": [
    "## Add everything to the main script"
   ]
  },
  {
   "cell_type": "code",
   "execution_count": null,
   "id": "ceb568bb",
   "metadata": {},
   "outputs": [],
   "source": [
    "# Modify the main function to include the connection to the database, and the calls for vector search.\n",
    "\n",
    "def main()->None:\n",
    "    ..."
   ]
  }
 ],
 "metadata": {
  "language_info": {
   "name": "python"
  }
 },
 "nbformat": 4,
 "nbformat_minor": 5
}
