{
 "cells": [
  {
   "cell_type": "markdown",
   "id": "1f702ea8",
   "metadata": {},
   "source": [
    "# Chapter 6: web search"
   ]
  },
  {
   "cell_type": "markdown",
   "id": "e203e613",
   "metadata": {},
   "source": [
    "In this chapter you will connect to a web search api to retrieve live information while chatting."
   ]
  },
  {
   "cell_type": "markdown",
   "id": "85f117f0",
   "metadata": {},
   "source": [
    "## Explore the Brave Web Search API"
   ]
  },
  {
   "cell_type": "markdown",
   "id": "2a74b06f",
   "metadata": {},
   "source": [
    "Brave has a free plan for its web search API: sign up and play with it.\n",
    "\n",
    "https://brave.com/search/api/"
   ]
  },
  {
   "cell_type": "markdown",
   "id": "a8aa2b7f",
   "metadata": {},
   "source": [
    "## Extract relevant news"
   ]
  },
  {
   "cell_type": "markdown",
   "id": "050b09ea",
   "metadata": {},
   "source": [
    "Use the news API of Brave to search for news (given a user query) and collect the resulting websites. This API only returns the links, not the webpages! Therefore you have to perform a second step. \n",
    "\n",
    "First the top 5 links, and then visit them by sending another HTTPS request for each of them, extract their content and store it."
   ]
  },
  {
   "cell_type": "markdown",
   "id": "ef89d224",
   "metadata": {},
   "source": [
    "## Wrap up"
   ]
  },
  {
   "cell_type": "code",
   "execution_count": null,
   "id": "e1ba9615",
   "metadata": {},
   "outputs": [],
   "source": [
    "# Now integrate the search function into your main program!\n",
    "# At first the user asks a query to the LLM. \n",
    "# First you retrieve the top 5 most related pieces of news,\n",
    "# then you retrieve the top 5 most related pieces of context,\n",
    "# lastly you concatenate each of these contexts with the user query, \n",
    "# and call the LLM API.\n",
    "\n",
    "def main()->None:\n",
    "    ..."
   ]
  }
 ],
 "metadata": {
  "language_info": {
   "name": "python"
  }
 },
 "nbformat": 4,
 "nbformat_minor": 5
}
